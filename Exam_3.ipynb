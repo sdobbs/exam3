{
 "cells": [
  {
   "cell_type": "markdown",
   "metadata": {},
   "source": [
    "## Exam 3\n",
    "\n",
    "### Computational Physics Lab\n",
    "\n",
    "### Instructor: Prof. Sean Dobbs\n",
    "\n",
    "### April 11, 2022\n",
    "\n",
    "*Due by 11 PM, April 22th*\n"
   ]
  },
  {
   "cell_type": "markdown",
   "metadata": {},
   "source": [
    "   "
   ]
  },
  {
   "cell_type": "markdown",
   "metadata": {},
   "source": [
    "**All problems must be solved without consulting others or copying from any source, except that you may use programs from the textbook or programs from the exercises as a starting point.**"
   ]
  },
  {
   "cell_type": "markdown",
   "metadata": {},
   "source": [
    "## Submission"
   ]
  },
  {
   "cell_type": "markdown",
   "metadata": {},
   "source": [
    "For each problem, you will write one or more python programs.  These programs should follow the Python coding and formatting conventions outlined for the course.  Many problems will have additional questions to answer, or will ask for a record of the terminal showing the output when the program is run with various arguements.  These answers can be given either in block comments in the prologue of the corresponding assignment, or in clearly labeled text files.  The terminal output should contain some information on the username and machine you are running on (this will often be in the command prompt).\n",
    "\n",
    "You will be evaluated based on the files contained in your remote GitHub repository at the due date.  You should and commit all the files you created to your local repository on a regular basis. You should do this by adding any new or modified files using \"git add\", and then finalizing changes using \"git commit\".  Remember that \"git status\" will give you information on which files in your repository. have been changed.  Remember to add short, but useful comments when performing a commit. When you are finished with the exercise, push the current status of your local repository to the remote repository on GitHub using the command \"git push -u\". You are encouraged to push your local files to the remote repository periodically before you are done, and certainly well before the deadline, if possible."
   ]
  },
  {
   "cell_type": "markdown",
   "metadata": {},
   "source": [
    "## 1.   Energy Eigenvalues and Eigenvectors of Schrödinger's Equation"
   ]
  },
  {
   "cell_type": "markdown",
   "metadata": {},
   "source": [
    "Schrödinger's equation is fundamental to modern quantum mechanics. It is a second order differential equation, which has analytical solutions in only a few selected cases. Solutions to most situations must be obtained numerically. Schrödinger's equation (time-independent, one-dimensional) for a particle of mass $m$ is:\n",
    "$$ -\\frac{\\hbar^2}{2m} \\frac{d^2 \\psi(x)}{dx^2} + V(x)\\,\\psi(x) = E\\, \\psi(x) $$\n",
    "Using units where $\\hbar/m=1$, the equation then becomes:\n",
    "$$ -\\frac{1}{2} \\frac{d^2 \\psi(x)}{dx^2} + V(x)\\,\\psi(x) = E\\,\\psi(x)  $$\n",
    "This equation is similar to many other second order differential equations, with one interesting\n",
    "twist, the energy, $E$, is also unknown. Consequently, the numerical solution of this equation must\n",
    "determine both $\\psi(x)$ and $E$. For many other applications of second-order differential equations,\n",
    "one starts with an initial condition for $\\psi(x)$ and for $\\psi'(x)$ and propagates forward and/or\n",
    "backward in steps of $\\Delta x$ until a solution is obtained for the range of interest. The initial conditions for wave functions are obtained in a somewhat different fashion."
   ]
  },
  {
   "cell_type": "markdown",
   "metadata": {},
   "source": [
    "When the potential is symmetric, one can use the symmetry to an advantage. Namely, the wave functions can be written as purely odd or purely even functions of $x$. An even parity solution\n",
    "requires that $\\psi(x)/dx = 0$ at $x=0$. One is free to choose $\\psi(0) = 1$ and be assured that the solution will be a simple multiple of the one we find. One can later use the normalization condition to determine the precise multiplier. For an odd parity solution one must have $\\psi(x) = 0$ and $\\psi(0)/dx \\ne 0$. Again one is free to set $d\\psi(x)/dx = 1$ and rely upon the normalization condition to determine the overall magnitude of the solution."
   ]
  },
  {
   "cell_type": "markdown",
   "metadata": {},
   "source": [
    "By exploiting the symmetry, one has determined the initial conditions for this problem. One can then proceed as usual to rewrite the second-order ODE as two first-order differential equations and implement the fourth-order Runge-Kutta method (See lecture notes on implementing the Runge- Kutta 4 method)."
   ]
  },
  {
   "cell_type": "markdown",
   "metadata": {},
   "source": [
    "The procedure for solving Schrödinger's equation would be identical to any other second-order differential equation with known boundary conditions were it not for two related facts: one does not know $E$, and $\\psi(x)$ must vanish as $x$ becomes large. If $\\psi(x)$ does not vanish as $x$ becomes large then the normalization integral is not finite and one does not have a physical solution. As it turns out this condition is met only for certain precise values of $E$. In this sense the boundary condition required for $\\psi(x)$ and energy quantization are intimately related."
   ]
  },
  {
   "cell_type": "markdown",
   "metadata": {},
   "source": [
    "The overall method to obtain a solution is to pick a value of $E$, start with initial conditions at $x = 0$, generate values for the wavefunction (for a given parity) out to large $x$, and determine if the wavefunction matches the boundary condition. If the wavefunction does not match, adjust the value of $E$ and try again. This process can take good advantage of the root finding techniques described earlier in the semester. Once the eigenvalue of the energy is obtained, the values for the wavefunction can be extended out to negative values of $x$ via symmetry."
   ]
  },
  {
   "cell_type": "markdown",
   "metadata": {},
   "source": [
    "One way is to start is by guessing a very low energy for the positive parity wavefunction and determine the sign of $\\psi(x)$ at large $x$ (a value of $x$ where $\\psi(x)$ should have long approached zero) and then increment the value of $E$ until the sign of $\\psi(x)$ changes. Once two values of $E$ have been obtained that give different signs for $\\psi(x)$ at large $x$, then an energy eigenvalue exists between these two values. In principle, one one could improve on the initial energy guesses and iterate towards the eigenvalue. In practice, one does so by utilizing a root finding method. The secant method works nicely in this case. Higher energy solutions can be found by changing the parity condition and/or starting with higher initial guess values for the energy. Such methods are known as shooting and matching methods."
   ]
  },
  {
   "cell_type": "markdown",
   "metadata": {},
   "source": [
    "a) Write a program which solves Schrödinger's equation using the potential energy function $V(x) = x^2$ and the initial conditions at $x=0$ for a symmetric potential, i.e. eigenstates of parity, but do not impose the boundary condition that the wave functions vanishes at infinity. These solutions will not be energy eigenvalue solutions. Have the program extend the wavefunction out for negative values, and generate and plot a wavefunction for a given value of the energy $E$. Use your program to find two energy values $E$ which bracket the lowest energy eigenvalue (i.e. the ground state). Once the two bracketed values are determined, modify the program to graph both solutions on one figure."
   ]
  },
  {
   "cell_type": "markdown",
   "metadata": {},
   "source": [
    "b) Create a new program, by modifying the earlier one, which imposes the boundary condition $\\psi(x_\\mathrm{limit}) = 0$ by implementing the secant method to determine an energy eigenvalue. Have the program determine the normalization factor for the wavefunction, renormalize the wavefunction, graph the full normalized wavefunction and then use the normalized wavefunction to determine the expectation value $\\langle x^2 \\rangle$."
   ]
  },
  {
   "cell_type": "markdown",
   "metadata": {},
   "source": [
    "c) Use the program to solve for the wavefunction, energy eigenvalue, normalization constant, and the expectation value $\\langle x^2 \\rangle$ for the the ground state, 1st, 2nd, and 3rd excited states for a potential of $V(x) = |x|$."
   ]
  },
  {
   "cell_type": "markdown",
   "metadata": {},
   "source": [
    "d) Use the program to solve for the wavefunction, energy eigenvalue, normalization constant, and the expectation value $\\langle x^ \\rangle$ for the the ground state, 1st, 2nd, and 3rd excited states for a potential of $V(x) = x^2$."
   ]
  },
  {
   "cell_type": "markdown",
   "metadata": {},
   "source": [
    "e) Use the program to solve for the wavefunction, energy eigenvalue, normalization constant, and the expectation value $\\langle x^2 \\rangle$ for the the ground state, 1st, 2nd, and 3rd excited states for a potential of $V(|x|<1) = 0$ and $V(|x|>1) = |x|$."
   ]
  },
  {
   "cell_type": "markdown",
   "metadata": {},
   "source": [
    "**For full credit** turn in your two programs, and the graphs of the wavefunctions and results for parts (a), (c), (d) and (e)."
   ]
  }
 ],
 "metadata": {
  "kernelspec": {
   "display_name": "Python 3 (ipykernel)",
   "language": "python",
   "name": "python3"
  },
  "language_info": {
   "codemirror_mode": {
    "name": "ipython",
    "version": 3
   },
   "file_extension": ".py",
   "mimetype": "text/x-python",
   "name": "python",
   "nbconvert_exporter": "python",
   "pygments_lexer": "ipython3",
   "version": "3.9.7"
  }
 },
 "nbformat": 4,
 "nbformat_minor": 2
}
