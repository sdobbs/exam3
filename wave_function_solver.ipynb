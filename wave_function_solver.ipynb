{
 "cells": [
  {
   "cell_type": "code",
   "execution_count": 2,
   "metadata": {},
   "outputs": [],
   "source": [
    "# set up program and define some useful functions\n",
    "import matplotlib.pyplot as plt\n",
    "import numpy as np\n",
    "import sys,math\n",
    "\n",
    "def rungeKutta4(f, r, t, h,E):\n",
    "    \"\"\" Runge-Kutta 4 method \"\"\"\n",
    "    k1 = h*f(r,t,E)\n",
    "    k2 = h*f(r+0.5*k1,t+0.5*h,E)\n",
    "    k3 = h*f(r+0.5*k2,t+0.5*h,E)\n",
    "    k4 = h*f(r+k3,t+h,E)\n",
    "    return (k1 + 2*k2 + 2*k3 + k4)/6\n",
    "\n",
    "\n",
    "def wavefunction(r,f,xpoints,h,E):\n",
    "    # solve for the wavefunction as a function of x\n",
    "    #  r - initial values\n",
    "    #  f - wavefunction in terms of (psi,phi)\n",
    "    #  xpoints - array of x values to evaluate over\n",
    "    #  h - step size in x\n",
    "    #  E - energy for Schrodinger's equation\n",
    "    s = np.copy(r)   # make a copy of the initial values so that the function can be called repeatedly\n",
    "    psipoints = []\n",
    "    for x in xpoints:\n",
    "        psipoints += [s[0]]\n",
    "        s += rungeKutta4(f,s,x,h,E)\n",
    "    return np.array(psipoints,float)\n",
    "\n",
    "def f(r, x, E):\n",
    "    \"\"\" Schrodinger's Equation \"\"\"\n",
    "    #m = 9.1094e-31         # Mass of electron\n",
    "    #hbar = 1.0546e-34      # planck's constant hbar\n",
    "    # calculate in natural units:  hbar**2/m = 1\n",
    "    psi = r[0]\n",
    "    phi = r[1]\n",
    "    fpsi = phi\n",
    "    fphi =  2.0*(V(x)-E)*psi\n",
    "    return np.array([fpsi,fphi], float)\n"
   ]
  },
  {
   "cell_type": "code",
   "execution_count": 11,
   "metadata": {},
   "outputs": [],
   "source": [
    "# define a potential\n",
    "# in this case, a square well potential\n",
    "def Vinf(x):\n",
    "    L = 1.0\n",
    "    if np.abs(x)< L:\n",
    "        return 0.0\n",
    "    else:\n",
    "        return 100   # gives E ~= n^2\n",
    "\n",
    "# also V = |x|\n",
    "def Vabs(x):\n",
    "    return  np.abs(x)"
   ]
  },
  {
   "cell_type": "code",
   "execution_count": 19,
   "metadata": {},
   "outputs": [
    {
     "name": "stdout",
     "output_type": "stream",
     "text": [
      "Initial values Psi & Psi': [1. 0.]\n",
      "Enter value for E: 1\n"
     ]
    },
    {
     "name": "stderr",
     "output_type": "stream",
     "text": [
      "/Users/sdobbs/opt/anaconda3/lib/python3.7/site-packages/ipykernel_launcher.py:30: UserWarning: Matplotlib is currently using module://ipykernel.pylab.backend_inline, which is a non-GUI backend, so cannot show the figure.\n"
     ]
    },
    {
     "data": {
      "image/png": "[encoded data removed]",
      "text/plain": [
       "<Figure size 720x576 with 1 Axes>"
      ]
     },
     "metadata": {
      "needs_background": "light"
     },
     "output_type": "display_data"
    }
   ],
   "source": [
    "# WARNING: The code below only works for even functions (n=0,2,4,..)\n",
    "# plot the wave function\n",
    "\n",
    "# initalize values\n",
    "V = Vabs \n",
    "max = 3\n",
    "h = 0.001    # x step size\n",
    "\n",
    "# set initial values for psi(x=0) & phi(x=0) for psi & phi\n",
    "#\n",
    "r = np.array([1,0],float) # even wavefunction\n",
    "print(\"Initial values Psi & Psi':\", r)\n",
    "\n",
    "E1 = float(input(\"Enter value for E: \"))\n",
    "\n",
    "x = np.arange(0, max, h)  # first evaluate the function over x = 0 to max\n",
    "\n",
    "psi1 = wavefunction(r,f,x,h,E1)\n",
    "\n",
    "# extend wavefunction and range to negative values\n",
    "psi1 = np.append(psi1[::-1],psi1[1:])\n",
    "x = np.append(-x[::-1],[x[1:]])\n",
    "\n",
    "#\n",
    "# plot wavefunction \n",
    "fig = plt.figure(1, figsize=(10,8))\n",
    "plt.plot(x,psi1,\"r.\")\n",
    "plt.ylim(-0.5,1.5)     # need to put in something, in case the function explodes\n",
    "fig.show()\n"
   ]
  },
  {
   "cell_type": "code",
   "execution_count": 26,
   "metadata": {},
   "outputs": [
    {
     "name": "stdout",
     "output_type": "stream",
     "text": [
      "Enter value for E1: 0.4\n",
      "Enter value for E2: 0.5\n",
      "Eigenenergy: 0.8085599437513278\n"
     ]
    }
   ],
   "source": [
    "# solve for the eigenvalue using the secant method\n",
    "\n",
    "target = 1e-6\n",
    "\n",
    "E1 = float(input(\"Enter value for E1: \"))\n",
    "E2 = float(input(\"Enter value for E2: \"))\n",
    "\n",
    "while np.abs(E1-E2)>target:\n",
    "    # get the wavefunction for E1\n",
    "    psipoints = wavefunction(r,f,x,h,E1)\n",
    "    # get the wavefunction value at the boundary value\n",
    "    psi1 = psipoints[-1] \n",
    "\n",
    "    # get the same for E2\n",
    "    psipoints = wavefunction(r,f,x,h,E2)\n",
    "    psi2 = psipoints[-1]\n",
    "  \n",
    "    #print(\"E1:\",E1, \"E2:\",E2,\"psi1:\", psi1, \"psi2:\", psi2)\n",
    "    E1, E2 = E2, E2 - psi2*(E2-E1)/(psi2-psi1) \n",
    "    \n",
    "# we now have an eigenfunction and eigenvalue\n",
    "print(\"Eigenenergy:\", E2)\n",
    "\n",
    "# set up examples\n",
    "psi = psipoints\n",
    "deltaX = h\n",
    "E = E2"
   ]
  },
  {
   "cell_type": "code",
   "execution_count": 29,
   "metadata": {},
   "outputs": [
    {
     "name": "stdout",
     "output_type": "stream",
     "text": [
      "<psi|psi>: 0.99999900524406\n",
      "Renormalizing by: 0.9999995026219063\n",
      "<psi|psi>: 1.0000000000000002 \n",
      "\n",
      "<psi|x^2|psi>: 0.47289479550418384 \n",
      "\n",
      "<psi|p^2|psi>: 0.5384878362738139\n",
      "<psi|p^2|psi>: 0.5384889419069524\n"
     ]
    }
   ],
   "source": [
    "# other examples\n",
    "\n",
    "# Normalize wavefunction \n",
    "print(\"<psi|psi>:\", psi.dot(psi) * deltaX)\n",
    "Norm = np.sqrt( psi.dot(psi) * deltaX )\n",
    "print(\"Renormalizing by:\", Norm)\n",
    "psi = psi/Norm\n",
    "print(\"<psi|psi>:\",psi.dot(psi)*deltaX,\"\\n\") \n",
    "\n",
    "# Calculate expectation value <x^2> \n",
    "print(\"<psi|x^2|psi>:\", psi.dot( x*x*psi ) * deltaX,\"\\n\")\n",
    "\n",
    "#      Operator[p^2] = - d^2/dx^2  (hbar=1) \n",
    "#     <p^2> = int[ psi*(-d^2psi/dx^2)]\n",
    "#\n",
    "# Use the central difference for 2nd derivative\n",
    "#      f''(x) = [ f(x+h) - 2f(x) + f(x-h)]/h**2  \n",
    "\n",
    "ppPsi = np.zeros( len(psi) - 2 )\n",
    "for i in range( len(ppPsi) ) :\n",
    "    ppPsi[i] +=  -(psi[i+2] -2.0*psi[i+1] + psi[i])/deltaX**2\n",
    "\n",
    "# trim arrays to match the size of ppPsi\n",
    "psi = psi[1:-1] \n",
    "x = x[1:-1]\n",
    "print(\"<psi|p^2|psi>:\", psi.dot(ppPsi) * deltaX )\n",
    "\n",
    "# using Schrodinger's Equation p**2 * Psi = -d^2Psi/dX^2 = 2 *(E - V(x))*psi\n",
    "for i in range( len(x) ):\n",
    "    ppPsi[i] = 2.0*(E - V(x[i])) * psi[i]\n",
    "p_squared = psi.dot(ppPsi) * deltaX\n",
    "print(\"<psi|p^2|psi>:\", p_squared )"
   ]
  }
 ],
 "metadata": {
  "kernelspec": {
   "display_name": "Python 3",
   "language": "python",
   "name": "python3"
  },
  "language_info": {
   "codemirror_mode": {
    "name": "ipython",
    "version": 3
   },
   "file_extension": ".py",
   "mimetype": "text/x-python",
   "name": "python",
   "nbconvert_exporter": "python",
   "pygments_lexer": "ipython3",
   "version": "3.7.4"
  }
 },
 "nbformat": 4,
 "nbformat_minor": 2
}
